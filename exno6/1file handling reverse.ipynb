{
 "cells": [
  {
   "cell_type": "code",
   "execution_count": null,
   "id": "3c9f3a5a-67e2-4abc-bcd0-f38b1814e0fc",
   "metadata": {},
   "outputs": [],
   "source": [
    "with open(\"file.txt\", \"r\") as myfile:\n",
    "   my_data = myfile.read()\n",
    "rev_data = my_data[::-1]\n",
    "print(\"Reversed data = \",rev_data)"
   ]
  },
  {
   "cell_type": "raw",
   "id": "48df5c6c-fa1e-4f3c-b7e0-ec5140a43a34",
   "metadata": {},
   "source": [
    "urk22ai1001"
   ]
  }
 ],
 "metadata": {
  "kernelspec": {
   "display_name": "Python 3 (ipykernel)",
   "language": "python",
   "name": "python3"
  },
  "language_info": {
   "codemirror_mode": {
    "name": "ipython",
    "version": 3
   },
   "file_extension": ".py",
   "mimetype": "text/x-python",
   "name": "python",
   "nbconvert_exporter": "python",
   "pygments_lexer": "ipython3",
   "version": "3.10.11"
  }
 },
 "nbformat": 4,
 "nbformat_minor": 5
}
