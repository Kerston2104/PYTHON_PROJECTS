{
 "cells": [
  {
   "cell_type": "code",
   "execution_count": null,
   "id": "3c9f3a5a-67e2-4abc-bcd0-f38b1814e0fc",
   "metadata": {},
   "outputs": [
    {
     "ename": "",
     "evalue": "",
     "output_type": "error",
     "traceback": [
      "\u001b[1;31mRunning cells with 'c:\\Users\\USER\\AppData\\Local\\Microsoft\\WindowsApps\\python3.10.exe' requires the ipykernel package.\n",
      "\u001b[1;31mRun the following command to install 'ipykernel' into the Python environment. \n",
      "\u001b[1;31mCommand: 'c:/Users/USER/AppData/Local/Microsoft/WindowsApps/python3.10.exe -m pip install ipykernel -U --user --force-reinstall'"
     ]
    }
   ],
   "source": [
    "with open(\"file.txt\", \"r\") as myfile:\n",
    "   my_data = myfile.read()\n",
    "rev_data = my_data[::-1]\n",
    "print(\"Reversed data = \",rev_data)"
   ]
  },
  {
   "cell_type": "raw",
   "id": "48df5c6c-fa1e-4f3c-b7e0-ec5140a43a34",
   "metadata": {},
   "source": [
    "urk22ai1001"
   ]
  }
 ],
 "metadata": {
  "kernelspec": {
   "display_name": "Python 3 (ipykernel)",
   "language": "python",
   "name": "python3"
  },
  "language_info": {
   "codemirror_mode": {
    "name": "ipython",
    "version": 3
   },
   "file_extension": ".py",
   "mimetype": "text/x-python",
   "name": "python",
   "nbconvert_exporter": "python",
   "pygments_lexer": "ipython3",
   "version": "3.10.11"
  }
 },
 "nbformat": 4,
 "nbformat_minor": 5
}
